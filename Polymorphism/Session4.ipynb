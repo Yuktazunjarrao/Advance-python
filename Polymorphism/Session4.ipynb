{
 "cells": [
  {
   "cell_type": "markdown",
   "metadata": {},
   "source": [
    "# Polymorphism  in Function"
   ]
  },
  {
   "cell_type": "code",
   "execution_count": 2,
   "metadata": {},
   "outputs": [],
   "source": [
    "a = 'Python'\n",
    "b = [101,'Eample',True,False,1.5,100]\n",
    "c = {101:'abc',102:'lmn',103:'xyz'}"
   ]
  },
  {
   "cell_type": "code",
   "execution_count": 3,
   "metadata": {},
   "outputs": [
    {
     "data": {
      "text/plain": [
       "str"
      ]
     },
     "execution_count": 3,
     "metadata": {},
     "output_type": "execute_result"
    }
   ],
   "source": [
    "type(a)"
   ]
  },
  {
   "cell_type": "code",
   "execution_count": 4,
   "metadata": {},
   "outputs": [
    {
     "data": {
      "text/plain": [
       "list"
      ]
     },
     "execution_count": 4,
     "metadata": {},
     "output_type": "execute_result"
    }
   ],
   "source": [
    "type(b)"
   ]
  },
  {
   "cell_type": "code",
   "execution_count": 5,
   "metadata": {},
   "outputs": [
    {
     "data": {
      "text/plain": [
       "dict"
      ]
     },
     "execution_count": 5,
     "metadata": {},
     "output_type": "execute_result"
    }
   ],
   "source": [
    "type(c)"
   ]
  },
  {
   "cell_type": "code",
   "execution_count": 6,
   "metadata": {},
   "outputs": [
    {
     "data": {
      "text/plain": [
       "'Python'"
      ]
     },
     "execution_count": 6,
     "metadata": {},
     "output_type": "execute_result"
    }
   ],
   "source": [
    "a"
   ]
  },
  {
   "cell_type": "code",
   "execution_count": 7,
   "metadata": {},
   "outputs": [
    {
     "data": {
      "text/plain": [
       "6"
      ]
     },
     "execution_count": 7,
     "metadata": {},
     "output_type": "execute_result"
    }
   ],
   "source": [
    "len(a)"
   ]
  },
  {
   "cell_type": "markdown",
   "metadata": {},
   "source": [
    "# Polymorphism in Operators"
   ]
  },
  {
   "cell_type": "code",
   "execution_count": 8,
   "metadata": {},
   "outputs": [
    {
     "data": {
      "text/plain": [
       "3"
      ]
     },
     "execution_count": 8,
     "metadata": {},
     "output_type": "execute_result"
    }
   ],
   "source": [
    "# Adding integers\n",
    "1+2"
   ]
  },
  {
   "cell_type": "code",
   "execution_count": 9,
   "metadata": {},
   "outputs": [
    {
     "data": {
      "text/plain": [
       "8.2"
      ]
     },
     "execution_count": 9,
     "metadata": {},
     "output_type": "execute_result"
    }
   ],
   "source": [
    "# Adding Float values\n",
    "4.5 + 3.7"
   ]
  },
  {
   "cell_type": "code",
   "execution_count": 11,
   "metadata": {},
   "outputs": [
    {
     "data": {
      "text/plain": [
       "'ETLHive Data Science'"
      ]
     },
     "execution_count": 11,
     "metadata": {},
     "output_type": "execute_result"
    }
   ],
   "source": [
    "# Addion operation on string - Concatenation\n",
    "'ETLHive' +' Data Science'"
   ]
  },
  {
   "cell_type": "code",
   "execution_count": 12,
   "metadata": {},
   "outputs": [
    {
     "data": {
      "text/plain": [
       "[1, 2, 3, 5, 8]"
      ]
     },
     "execution_count": 12,
     "metadata": {},
     "output_type": "execute_result"
    }
   ],
   "source": [
    "# combining 2 lists\n",
    "[1, 2, 3] + [5, 8]"
   ]
  },
  {
   "cell_type": "markdown",
   "metadata": {},
   "source": [
    "# Polymorphism in Class"
   ]
  },
  {
   "cell_type": "code",
   "execution_count": 17,
   "metadata": {},
   "outputs": [],
   "source": [
    "class India:\n",
    "    \n",
    "    def capital(self):\n",
    "        print('Capital of India is New Delhi')\n",
    "    def language(self):\n",
    "        print('Hindi is widely spoken in India')"
   ]
  },
  {
   "cell_type": "code",
   "execution_count": 26,
   "metadata": {},
   "outputs": [],
   "source": [
    "class USA:\n",
    "\n",
    "    def capital(self):\n",
    "        print('Capital of USA is Washington D.C')\n",
    "    def language(self):\n",
    "        print('English is widely spoken in USA')\n",
    "        "
   ]
  },
  {
   "cell_type": "code",
   "execution_count": 27,
   "metadata": {},
   "outputs": [],
   "source": [
    "c1 = India()\n",
    "c2 = USA()"
   ]
  },
  {
   "cell_type": "code",
   "execution_count": 28,
   "metadata": {},
   "outputs": [
    {
     "data": {
      "text/plain": [
       "__main__.India"
      ]
     },
     "execution_count": 28,
     "metadata": {},
     "output_type": "execute_result"
    }
   ],
   "source": [
    "type(c1)"
   ]
  },
  {
   "cell_type": "code",
   "execution_count": 29,
   "metadata": {},
   "outputs": [
    {
     "data": {
      "text/plain": [
       "__main__.USA"
      ]
     },
     "execution_count": 29,
     "metadata": {},
     "output_type": "execute_result"
    }
   ],
   "source": [
    "type(c2)"
   ]
  },
  {
   "cell_type": "code",
   "execution_count": 30,
   "metadata": {},
   "outputs": [
    {
     "name": "stdout",
     "output_type": "stream",
     "text": [
      "<class '__main__.India'>\n",
      "Capital of India is New Delhi\n",
      "Hindi is widely spoken in India\n",
      "<class '__main__.USA'>\n",
      "Capital of USA is Washington D.C\n",
      "English is widely spoken in USA\n"
     ]
    }
   ],
   "source": [
    "for i in [c1,c2]:\n",
    "    print(type(i))\n",
    "    i.capital()\n",
    "    i.language()\n"
   ]
  },
  {
   "cell_type": "code",
   "execution_count": 31,
   "metadata": {},
   "outputs": [
    {
     "name": "stdout",
     "output_type": "stream",
     "text": [
      "<class '__main__.India'>\n",
      "Capital of India is New Delhi\n",
      "Hindi is widely spoken in India\n",
      "\n",
      "=============*******=============\n",
      "\n",
      "<class '__main__.USA'>\n",
      "Capital of USA is Washington D.C\n",
      "English is widely spoken in USA\n",
      "\n",
      "=============*******=============\n",
      "\n"
     ]
    }
   ],
   "source": [
    "for i in [c1,c2]:\n",
    "    print(type(i))\n",
    "    i.capital()\n",
    "    i.language()\n",
    "    print('\\n=============*******=============\\n')"
   ]
  },
  {
   "cell_type": "markdown",
   "metadata": {},
   "source": [
    "Example 2\n",
    "### Polymorphism for calculating area of different shapes"
   ]
  },
  {
   "cell_type": "code",
   "execution_count": 2,
   "metadata": {},
   "outputs": [],
   "source": [
    "# Finding area of rectangle\n",
    "\n",
    "class rectangle:\n",
    "\n",
    "    def __init__(self,l,b):\n",
    "        self.l = l\n",
    "        self.b = b \n",
    "    def area(self):\n",
    "        ar=self.l * self.b \n",
    "        return ar "
   ]
  },
  {
   "cell_type": "code",
   "execution_count": 15,
   "metadata": {},
   "outputs": [],
   "source": [
    "# finding area of circle\n",
    "from math import pi\n",
    " \n",
    "class circle:\n",
    "    def __init__(self,r):\n",
    "        self.r = r \n",
    "    def area(self):\n",
    "        ar = pi*(self.r)**2\n",
    "        return ar"
   ]
  },
  {
   "cell_type": "code",
   "execution_count": 16,
   "metadata": {},
   "outputs": [],
   "source": [
    "r = rectangle(10, 8)\n",
    "c = circle(10)"
   ]
  },
  {
   "cell_type": "code",
   "execution_count": 17,
   "metadata": {},
   "outputs": [
    {
     "name": "stdout",
     "output_type": "stream",
     "text": [
      "<class '__main__.rectangle'>\n",
      "Area of given object is : 80.0000\n",
      "\n",
      "==========================================\n",
      "\n",
      "<class '__main__.circle'>\n",
      "Area of given object is : 314.1593\n",
      "\n",
      "==========================================\n",
      "\n"
     ]
    }
   ],
   "source": [
    "for i in [r, c]:\n",
    "    print(type(i))\n",
    "    print(f'Area of given object is : {i.area():.4f}')\n",
    "    print('\\n==========================================\\n')"
   ]
  }
 ],
 "metadata": {
  "kernelspec": {
   "display_name": "venv",
   "language": "python",
   "name": "python3"
  },
  "language_info": {
   "codemirror_mode": {
    "name": "ipython",
    "version": 3
   },
   "file_extension": ".py",
   "mimetype": "text/x-python",
   "name": "python",
   "nbconvert_exporter": "python",
   "pygments_lexer": "ipython3",
   "version": "3.11.5"
  }
 },
 "nbformat": 4,
 "nbformat_minor": 2
}
